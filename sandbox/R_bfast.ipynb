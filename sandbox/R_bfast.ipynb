{
 "cells": [
  {
   "cell_type": "code",
   "execution_count": 29,
   "metadata": {
    "collapsed": true
   },
   "outputs": [],
   "source": [
    "import datetime as dt\n",
    "\n",
    "import numpy as np\n",
    "import rpy2.robjects as robjects\n",
    "from rpy2.robjects.packages import importr\n",
    "from rpy2.robjects import numpy2ri\n",
    "\n",
    "numpy2ri.activate()\n"
   ]
  },
  {
   "cell_type": "code",
   "execution_count": 17,
   "metadata": {
    "collapsed": true
   },
   "outputs": [],
   "source": [
    "z = np.load('p013r030_r50_n423_b8.npz')\n",
    "dates, Y = z['dates'], z['Y']"
   ]
  },
  {
   "cell_type": "code",
   "execution_count": 18,
   "metadata": {
    "collapsed": false
   },
   "outputs": [],
   "source": [
    "bfast = importr('bfast')\n",
    "zoo = importr('zoo')"
   ]
  },
  {
   "cell_type": "code",
   "execution_count": 5,
   "metadata": {
    "collapsed": true
   },
   "outputs": [],
   "source": [
    "bfast.bfastmonitor"
   ]
  },
  {
   "cell_type": "code",
   "execution_count": 21,
   "metadata": {
    "collapsed": false
   },
   "outputs": [],
   "source": [
    "dat = robjects.r['readRDS']('bfastApp/data/maf_NDMI.rds')"
   ]
  },
  {
   "cell_type": "markdown",
   "metadata": {},
   "source": [
    "## Transform to `bfastts`\n",
    "\n",
    "+ `dates` must be a list of date strings (e.g., %Y-%m-%d), not ordinal dates."
   ]
  },
  {
   "cell_type": "code",
   "execution_count": 34,
   "metadata": {
    "collapsed": false
   },
   "outputs": [],
   "source": [
    "dates_ts = np.array([dt.datetime.fromordinal(_d).strftime('%Y-%m-%d') for _d in dates])"
   ]
  },
  {
   "cell_type": "code",
   "execution_count": 50,
   "metadata": {
    "collapsed": false
   },
   "outputs": [],
   "source": [
    "ts = bfast.bfastts(Y[4, 0, 0], dates_ts, type='irregular')\n",
    "ts_np = np.array(bfast_ts)"
   ]
  },
  {
   "cell_type": "code",
   "execution_count": 58,
   "metadata": {
    "collapsed": false
   },
   "outputs": [],
   "source": [
    "pp = bfast.bfastpp(bfast_ts)\n",
    "tsBreaks = bfast.breakpoints_bfast01(pp, formula='trend + harmonic', breaks=2)"
   ]
  },
  {
   "cell_type": "code",
   "execution_count": 59,
   "metadata": {
    "collapsed": false
   },
   "outputs": [
    {
     "data": {
      "text/plain": [
       "[rpy2.rinterface.NULL,\n",
       " rpy2.rinterface.NULL,\n",
       " rpy2.rinterface.NULL,\n",
       " <IntVector - Python:0x7f8dee1a8758 / R:0x55ceaf723dd8>\n",
       " [       0],\n",
       " <Vector - Python:0x7f8dee1a8830 / R:0x55ceb03a6de0>\n",
       " [RNULLType, Vector, Vector, Vector],\n",
       " <FloatVector - Python:0x7f8dee1a87a0 / R:0x55ceaf723fe8>\n",
       " [1.000000]]"
      ]
     },
     "execution_count": 59,
     "metadata": {},
     "output_type": "execute_result"
    }
   ],
   "source": [
    "[t for t in tsBreaks]"
   ]
  }
 ],
 "metadata": {
  "kernelspec": {
   "display_name": "Python 2",
   "language": "python",
   "name": "python2"
  },
  "language_info": {
   "codemirror_mode": {
    "name": "ipython",
    "version": 2
   },
   "file_extension": ".py",
   "mimetype": "text/x-python",
   "name": "python",
   "nbconvert_exporter": "python",
   "pygments_lexer": "ipython2",
   "version": "2.7.11"
  }
 },
 "nbformat": 4,
 "nbformat_minor": 0
}
